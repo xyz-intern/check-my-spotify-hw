{
 "cells": [
  {
   "cell_type": "code",
   "execution_count": 3,
   "metadata": {},
   "outputs": [],
   "source": [
    "from my_spotify import Spotify_Controller"
   ]
  },
  {
   "cell_type": "code",
   "execution_count": 4,
   "metadata": {},
   "outputs": [],
   "source": [
    "my_controller = Spotify_Controller(baudrate=115200,port=\"/dev/serial/by-id/usb-FTDI_FT232R_USB_UART_A9EIFOED-if00-port0\")"
   ]
  },
  {
   "cell_type": "code",
   "execution_count": 29,
   "metadata": {},
   "outputs": [],
   "source": [
    "def send_data(command,command_size):\n",
    "    \n",
    "    # encode\n",
    "    data =bytes(command,'utf-8')\n",
    "\n",
    "    # data transmit\n",
    "    \n",
    "    my_controller.ser.write(data)\n",
    "    result = my_controller.ser.read(command_size)\n",
    "    \n",
    "    # decode\n",
    "    result = bytes.decode(result)\n",
    "\n",
    "    print(f'good communication rcv data is here ! : {result}')\n",
    "\n",
    "    return result"
   ]
  },
  {
   "cell_type": "code",
   "execution_count": 7,
   "metadata": {},
   "outputs": [],
   "source": [
    "text = 'title: A Tri'\n",
    "text2 = 'be Called Ja'"
   ]
  },
  {
   "cell_type": "code",
   "execution_count": 30,
   "metadata": {},
   "outputs": [
    {
     "name": "stdout",
     "output_type": "stream",
     "text": [
      "good communication rcv data is here ! : 012345678910\n",
      "012345678910\n",
      "good communication rcv data is here ! : Abcdefghijls\n",
      "Abcdefghijls\n"
     ]
    }
   ],
   "source": [
    "rcv_data = send_data('012345678910',12)\n",
    "print(rcv_data)\n",
    "rcv_data = send_data('Abcdefghijlss',12)\n",
    "print(rcv_data)"
   ]
  },
  {
   "cell_type": "code",
   "execution_count": null,
   "metadata": {},
   "outputs": [],
   "source": [
    "my_controller.ser.read(100)"
   ]
  },
  {
   "cell_type": "code",
   "execution_count": 32,
   "metadata": {},
   "outputs": [],
   "source": [
    "my_controller.ser.open()"
   ]
  },
  {
   "cell_type": "code",
   "execution_count": 34,
   "metadata": {},
   "outputs": [],
   "source": [
    "my_controller.ser.close()"
   ]
  },
  {
   "cell_type": "code",
   "execution_count": null,
   "metadata": {},
   "outputs": [],
   "source": []
  }
 ],
 "metadata": {
  "kernelspec": {
   "display_name": "my-spotify",
   "language": "python",
   "name": "python3"
  },
  "language_info": {
   "codemirror_mode": {
    "name": "ipython",
    "version": 3
   },
   "file_extension": ".py",
   "mimetype": "text/x-python",
   "name": "python",
   "nbconvert_exporter": "python",
   "pygments_lexer": "ipython3",
   "version": "3.7.16"
  }
 },
 "nbformat": 4,
 "nbformat_minor": 2
}
