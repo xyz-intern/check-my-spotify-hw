{
 "cells": [
  {
   "cell_type": "code",
   "execution_count": 36,
   "metadata": {},
   "outputs": [],
   "source": [
    "from my_spotify import Spotify_Controller\n",
    "import requests"
   ]
  },
  {
   "cell_type": "code",
   "execution_count": 37,
   "metadata": {},
   "outputs": [],
   "source": [
    "my_controller = Spotify_Controller(baudrate=115200,port=\"/dev/serial/by-id/usb-STMicroelectronics_STM32_Virtual_ComPort_8D7F439F5554-if00\")"
   ]
  },
  {
   "cell_type": "code",
   "execution_count": null,
   "metadata": {},
   "outputs": [],
   "source": [
    "test=13"
   ]
  },
  {
   "cell_type": "code",
   "execution_count": 86,
   "metadata": {},
   "outputs": [
    {
     "name": "stdout",
     "output_type": "stream",
     "text": [
      "0\n",
      "1\n",
      "음악이 재생되었습니다\n",
      "1\n",
      "1\n",
      "음악이 정지되었습니다\n"
     ]
    }
   ],
   "source": [
    "while True:\n",
    "    try:\n",
    "        rcv_data = my_controller.ser.read(1)\n",
    "        rcv_data = int.from_bytes(rcv_data,'big')\n",
    "\n",
    "        print(rcv_data)\n",
    "        if rcv_data == 0:\n",
    "            command='play'\n",
    "        elif rcv_data == 1:\n",
    "            command='stop'\n",
    "\n",
    "        url_items = f'http://192.168.0.133:3000/apis/command/{command}'\n",
    "        response = requests.get(url_items)\n",
    "        print(response.text)\n",
    "    except KeyboardInterrupt:\n",
    "        break\n"
   ]
  },
  {
   "cell_type": "code",
   "execution_count": 83,
   "metadata": {},
   "outputs": [
    {
     "name": "stdout",
     "output_type": "stream",
     "text": [
      "0\n",
      "음악이 재생되었습니다\n"
     ]
    }
   ],
   "source": [
    "rcv_data = my_controller.ser.read(1)\n",
    "rcv_data = int.from_bytes(rcv_data,'big')\n",
    "\n",
    "print(rcv_data)\n",
    "if rcv_data == 0:\n",
    "    command='play'\n",
    "elif rcv_data == 1:\n",
    "    command='stop'\n",
    "\n",
    "url_items = f'http://192.168.0.133:3000/apis/command/{command}'\n",
    "response = requests.get(url_items)\n",
    "\n",
    "print(response.text)"
   ]
  },
  {
   "cell_type": "code",
   "execution_count": 152,
   "metadata": {},
   "outputs": [],
   "source": [
    "my_controller.ser.close()"
   ]
  },
  {
   "cell_type": "code",
   "execution_count": 30,
   "metadata": {},
   "outputs": [
    {
     "name": "stdout",
     "output_type": "stream",
     "text": [
      "good communication rcv data is here ! : 012345678910\n",
      "012345678910\n",
      "good communication rcv data is here ! : Abcdefghijls\n",
      "Abcdefghijls\n"
     ]
    }
   ],
   "source": [
    "rcv_data = send_data('012345678910',12)\n",
    "print(rcv_data)\n",
    "rcv_data = send_data('Abcdefghijlss',12)\n",
    "print(rcv_data)"
   ]
  },
  {
   "cell_type": "code",
   "execution_count": 32,
   "metadata": {},
   "outputs": [],
   "source": [
    "my_controller.ser.open()"
   ]
  }
 ],
 "metadata": {
  "kernelspec": {
   "display_name": "my-spotify",
   "language": "python",
   "name": "python3"
  },
  "language_info": {
   "codemirror_mode": {
    "name": "ipython",
    "version": 3
   },
   "file_extension": ".py",
   "mimetype": "text/x-python",
   "name": "python",
   "nbconvert_exporter": "python",
   "pygments_lexer": "ipython3",
   "version": "3.7.16"
  }
 },
 "nbformat": 4,
 "nbformat_minor": 2
}
