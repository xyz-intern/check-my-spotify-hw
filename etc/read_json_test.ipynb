{
 "cells": [
  {
   "cell_type": "code",
   "execution_count": 5,
   "metadata": {},
   "outputs": [],
   "source": [
    "import lib\n",
    "import json\n",
    "get_track_data = lib.read_file_data('listening')"
   ]
  },
  {
   "cell_type": "code",
   "execution_count": 6,
   "metadata": {},
   "outputs": [
    {
     "data": {
      "text/plain": [
       "'{\"userId\":\"dlatldhs\",\"albumName\":\"DETOX\",\"artistName\":\"BILL STAX, Ted Park\",\"songName\":\"[Thur\\'sday] (Feat. Ted Park)\",\"imageUri\":\"https://i.scdn.co/image/ab67616d0000b273798cd403bf1b4d4fbc3a66b7\",\"deviceId\":\"a374d07fc11b411ea0d8a42b9c61de5b7d64843b\",\"count\":1}'"
      ]
     },
     "execution_count": 6,
     "metadata": {},
     "output_type": "execute_result"
    }
   ],
   "source": [
    "get_track_data"
   ]
  },
  {
   "cell_type": "code",
   "execution_count": 4,
   "metadata": {},
   "outputs": [
    {
     "data": {
      "text/plain": [
       "str"
      ]
     },
     "execution_count": 4,
     "metadata": {},
     "output_type": "execute_result"
    }
   ],
   "source": [
    "type(get_track_data)"
   ]
  },
  {
   "cell_type": "code",
   "execution_count": 7,
   "metadata": {},
   "outputs": [],
   "source": [
    "json_object = json.loads(get_track_data)"
   ]
  },
  {
   "cell_type": "code",
   "execution_count": 8,
   "metadata": {},
   "outputs": [
    {
     "data": {
      "text/plain": [
       "{'userId': 'dlatldhs',\n",
       " 'albumName': 'DETOX',\n",
       " 'artistName': 'BILL STAX, Ted Park',\n",
       " 'songName': \"[Thur'sday] (Feat. Ted Park)\",\n",
       " 'imageUri': 'https://i.scdn.co/image/ab67616d0000b273798cd403bf1b4d4fbc3a66b7',\n",
       " 'deviceId': 'a374d07fc11b411ea0d8a42b9c61de5b7d64843b',\n",
       " 'count': 1}"
      ]
     },
     "execution_count": 8,
     "metadata": {},
     "output_type": "execute_result"
    }
   ],
   "source": [
    "json_object"
   ]
  },
  {
   "cell_type": "code",
   "execution_count": 14,
   "metadata": {},
   "outputs": [],
   "source": [
    "d1 = json_object['artistName']\n",
    "d2 = json_object['songName']"
   ]
  },
  {
   "cell_type": "code",
   "execution_count": 15,
   "metadata": {},
   "outputs": [
    {
     "data": {
      "text/plain": [
       "str"
      ]
     },
     "execution_count": 15,
     "metadata": {},
     "output_type": "execute_result"
    }
   ],
   "source": [
    "type(d1)"
   ]
  },
  {
   "cell_type": "code",
   "execution_count": 11,
   "metadata": {},
   "outputs": [],
   "source": [
    "serial_data = ''"
   ]
  },
  {
   "cell_type": "code",
   "execution_count": 17,
   "metadata": {},
   "outputs": [],
   "source": [
    "serial_data= d1 + ',' + d2"
   ]
  },
  {
   "cell_type": "code",
   "execution_count": 18,
   "metadata": {},
   "outputs": [
    {
     "data": {
      "text/plain": [
       "\"BILL STAX, Ted Park,[Thur'sday] (Feat. Ted Park)\""
      ]
     },
     "execution_count": 18,
     "metadata": {},
     "output_type": "execute_result"
    }
   ],
   "source": [
    "serial_data"
   ]
  },
  {
   "cell_type": "code",
   "execution_count": 2,
   "metadata": {},
   "outputs": [
    {
     "name": "stderr",
     "output_type": "stream",
     "text": [
      "Exception in thread Thread-6:\n",
      "Traceback (most recent call last):\n",
      "  File \"/home/sion/anaconda3/envs/my-spotify/lib/python3.7/threading.py\", line 926, in _bootstrap_inner\n",
      "    self.run()\n",
      "  File \"/home/sion/anaconda3/envs/my-spotify/lib/python3.7/threading.py\", line 870, in run\n",
      "    self._target(*self._args, **self._kwargs)\n",
      "  File \"/tmp/ipykernel_22854/3214387709.py\", line 9, in socket_process\n",
      "    my_socket = My_socket(IP='192.168.0.105',PORT=8765,SIZE=1024)\n",
      "  File \"/home/sion/workspace/my-spotify/stm32/check-my-spotify-hw/my_socket.py\", line 13, in __init__\n",
      "    self.server_socket.bind(ADDR)\n",
      "OSError: [Errno 98] Address already in use\n",
      "\n"
     ]
    },
    {
     "name": "stdout",
     "output_type": "stream",
     "text": [
      "0\n"
     ]
    },
    {
     "name": "stderr",
     "output_type": "stream",
     "text": [
      "Exception in thread Thread-7:\n",
      "Traceback (most recent call last):\n",
      "  File \"/home/sion/anaconda3/envs/my-spotify/lib/python3.7/site-packages/urllib3/connection.py\", line 175, in _new_conn\n",
      "    (self._dns_host, self.port), self.timeout, **extra_kw\n",
      "  File \"/home/sion/anaconda3/envs/my-spotify/lib/python3.7/site-packages/urllib3/util/connection.py\", line 95, in create_connection\n",
      "    raise err\n",
      "  File \"/home/sion/anaconda3/envs/my-spotify/lib/python3.7/site-packages/urllib3/util/connection.py\", line 85, in create_connection\n",
      "    sock.connect(sa)\n",
      "ConnectionRefusedError: [Errno 111] Connection refused\n",
      "\n",
      "During handling of the above exception, another exception occurred:\n",
      "\n",
      "Traceback (most recent call last):\n",
      "  File \"/home/sion/anaconda3/envs/my-spotify/lib/python3.7/site-packages/urllib3/connectionpool.py\", line 710, in urlopen\n",
      "    chunked=chunked,\n",
      "  File \"/home/sion/anaconda3/envs/my-spotify/lib/python3.7/site-packages/urllib3/connectionpool.py\", line 398, in _make_request\n",
      "    conn.request(method, url, **httplib_request_kw)\n",
      "  File \"/home/sion/anaconda3/envs/my-spotify/lib/python3.7/site-packages/urllib3/connection.py\", line 239, in request\n",
      "    super(HTTPConnection, self).request(method, url, body=body, headers=headers)\n",
      "  File \"/home/sion/anaconda3/envs/my-spotify/lib/python3.7/http/client.py\", line 1281, in request\n",
      "    self._send_request(method, url, body, headers, encode_chunked)\n",
      "  File \"/home/sion/anaconda3/envs/my-spotify/lib/python3.7/http/client.py\", line 1327, in _send_request\n",
      "    self.endheaders(body, encode_chunked=encode_chunked)\n",
      "  File \"/home/sion/anaconda3/envs/my-spotify/lib/python3.7/http/client.py\", line 1276, in endheaders\n",
      "    self._send_output(message_body, encode_chunked=encode_chunked)\n",
      "  File \"/home/sion/anaconda3/envs/my-spotify/lib/python3.7/http/client.py\", line 1036, in _send_output\n",
      "    self.send(msg)\n",
      "  File \"/home/sion/anaconda3/envs/my-spotify/lib/python3.7/http/client.py\", line 976, in send\n",
      "    self.connect()\n",
      "  File \"/home/sion/anaconda3/envs/my-spotify/lib/python3.7/site-packages/urllib3/connection.py\", line 205, in connect\n",
      "    conn = self._new_conn()\n",
      "  File \"/home/sion/anaconda3/envs/my-spotify/lib/python3.7/site-packages/urllib3/connection.py\", line 187, in _new_conn\n",
      "    self, \"Failed to establish a new connection: %s\" % e\n",
      "urllib3.exceptions.NewConnectionError: <urllib3.connection.HTTPConnection object at 0x7f580c13da50>: Failed to establish a new connection: [Errno 111] Connection refused\n",
      "\n",
      "During handling of the above exception, another exception occurred:\n",
      "\n",
      "Traceback (most recent call last):\n",
      "  File \"/home/sion/anaconda3/envs/my-spotify/lib/python3.7/site-packages/requests/adapters.py\", line 497, in send\n",
      "    chunked=chunked,\n",
      "  File \"/home/sion/anaconda3/envs/my-spotify/lib/python3.7/site-packages/urllib3/connectionpool.py\", line 788, in urlopen\n",
      "    method, url, error=e, _pool=self, _stacktrace=sys.exc_info()[2]\n",
      "  File \"/home/sion/anaconda3/envs/my-spotify/lib/python3.7/site-packages/urllib3/util/retry.py\", line 592, in increment\n",
      "    raise MaxRetryError(_pool, url, error or ResponseError(cause))\n",
      "urllib3.exceptions.MaxRetryError: HTTPConnectionPool(host='192.168.0.133', port=3000): Max retries exceeded with url: /apis/command/ (Caused by NewConnectionError('<urllib3.connection.HTTPConnection object at 0x7f580c13da50>: Failed to establish a new connection: [Errno 111] Connection refused'))\n",
      "\n",
      "During handling of the above exception, another exception occurred:\n",
      "\n",
      "Traceback (most recent call last):\n",
      "  File \"/home/sion/anaconda3/envs/my-spotify/lib/python3.7/threading.py\", line 926, in _bootstrap_inner\n",
      "    self.run()\n",
      "  File \"/home/sion/anaconda3/envs/my-spotify/lib/python3.7/threading.py\", line 870, in run\n",
      "    self._target(*self._args, **self._kwargs)\n",
      "  File \"/tmp/ipykernel_22854/3214387709.py\", line 28, in serial_to_stm32\n",
      "    response_data = lib.send_to_nest(command,user_id)\n",
      "  File \"/home/sion/workspace/my-spotify/stm32/check-my-spotify-hw/lib.py\", line 20, in send_to_nest\n",
      "    response = requests.post(url_items, json=data,timeout=5)\n",
      "  File \"/home/sion/anaconda3/envs/my-spotify/lib/python3.7/site-packages/requests/api.py\", line 115, in post\n",
      "    return request(\"post\", url, data=data, json=json, **kwargs)\n",
      "  File \"/home/sion/anaconda3/envs/my-spotify/lib/python3.7/site-packages/requests/api.py\", line 59, in request\n",
      "    return session.request(method=method, url=url, **kwargs)\n",
      "  File \"/home/sion/anaconda3/envs/my-spotify/lib/python3.7/site-packages/requests/sessions.py\", line 589, in request\n",
      "    resp = self.send(prep, **send_kwargs)\n",
      "  File \"/home/sion/anaconda3/envs/my-spotify/lib/python3.7/site-packages/requests/sessions.py\", line 703, in send\n",
      "    r = adapter.send(request, **kwargs)\n",
      "  File \"/home/sion/anaconda3/envs/my-spotify/lib/python3.7/site-packages/requests/adapters.py\", line 519, in send\n",
      "    raise ConnectionError(e, request=request)\n",
      "requests.exceptions.ConnectionError: HTTPConnectionPool(host='192.168.0.133', port=3000): Max retries exceeded with url: /apis/command/ (Caused by NewConnectionError('<urllib3.connection.HTTPConnection object at 0x7f580c13da50>: Failed to establish a new connection: [Errno 111] Connection refused'))\n",
      "\n"
     ]
    },
    {
     "ename": "KeyboardInterrupt",
     "evalue": "Interrupted by user",
     "output_type": "error",
     "traceback": [
      "\u001b[0;31m---------------------------------------------------------------------------\u001b[0m",
      "\u001b[0;31mKeyboardInterrupt\u001b[0m                         Traceback (most recent call last)",
      "\u001b[0;32m/tmp/ipykernel_22854/3214387709.py\u001b[0m in \u001b[0;36m<module>\u001b[0;34m\u001b[0m\n\u001b[1;32m     39\u001b[0m \u001b[0;34m\u001b[0m\u001b[0m\n\u001b[1;32m     40\u001b[0m \u001b[0;32mwhile\u001b[0m \u001b[0;32mTrue\u001b[0m\u001b[0;34m:\u001b[0m\u001b[0;34m\u001b[0m\u001b[0;34m\u001b[0m\u001b[0m\n\u001b[0;32m---> 41\u001b[0;31m     \u001b[0mexit_signal\u001b[0m \u001b[0;34m=\u001b[0m \u001b[0minput\u001b[0m\u001b[0;34m(\u001b[0m\u001b[0;34m'Type \"exit\" anytime to stop server\\n'\u001b[0m\u001b[0;34m)\u001b[0m\u001b[0;34m\u001b[0m\u001b[0;34m\u001b[0m\u001b[0m\n\u001b[0m\u001b[1;32m     42\u001b[0m     \u001b[0;32mif\u001b[0m \u001b[0mexit_signal\u001b[0m \u001b[0;34m==\u001b[0m \u001b[0;34m'exit'\u001b[0m\u001b[0;34m:\u001b[0m\u001b[0;34m\u001b[0m\u001b[0;34m\u001b[0m\u001b[0m\n\u001b[1;32m     43\u001b[0m         \u001b[0;32mbreak\u001b[0m\u001b[0;34m\u001b[0m\u001b[0;34m\u001b[0m\u001b[0m\n",
      "\u001b[0;32m~/anaconda3/envs/my-spotify/lib/python3.7/site-packages/ipykernel/kernelbase.py\u001b[0m in \u001b[0;36mraw_input\u001b[0;34m(self, prompt)\u001b[0m\n\u001b[1;32m   1179\u001b[0m             \u001b[0mself\u001b[0m\u001b[0;34m.\u001b[0m\u001b[0m_parent_ident\u001b[0m\u001b[0;34m[\u001b[0m\u001b[0;34m\"shell\"\u001b[0m\u001b[0;34m]\u001b[0m\u001b[0;34m,\u001b[0m\u001b[0;34m\u001b[0m\u001b[0;34m\u001b[0m\u001b[0m\n\u001b[1;32m   1180\u001b[0m             \u001b[0mself\u001b[0m\u001b[0;34m.\u001b[0m\u001b[0mget_parent\u001b[0m\u001b[0;34m(\u001b[0m\u001b[0;34m\"shell\"\u001b[0m\u001b[0;34m)\u001b[0m\u001b[0;34m,\u001b[0m\u001b[0;34m\u001b[0m\u001b[0;34m\u001b[0m\u001b[0m\n\u001b[0;32m-> 1181\u001b[0;31m             \u001b[0mpassword\u001b[0m\u001b[0;34m=\u001b[0m\u001b[0;32mFalse\u001b[0m\u001b[0;34m,\u001b[0m\u001b[0;34m\u001b[0m\u001b[0;34m\u001b[0m\u001b[0m\n\u001b[0m\u001b[1;32m   1182\u001b[0m         )\n\u001b[1;32m   1183\u001b[0m \u001b[0;34m\u001b[0m\u001b[0m\n",
      "\u001b[0;32m~/anaconda3/envs/my-spotify/lib/python3.7/site-packages/ipykernel/kernelbase.py\u001b[0m in \u001b[0;36m_input_request\u001b[0;34m(self, prompt, ident, parent, password)\u001b[0m\n\u001b[1;32m   1217\u001b[0m             \u001b[0;32mexcept\u001b[0m \u001b[0mKeyboardInterrupt\u001b[0m\u001b[0;34m:\u001b[0m\u001b[0;34m\u001b[0m\u001b[0;34m\u001b[0m\u001b[0m\n\u001b[1;32m   1218\u001b[0m                 \u001b[0;31m# re-raise KeyboardInterrupt, to truncate traceback\u001b[0m\u001b[0;34m\u001b[0m\u001b[0;34m\u001b[0m\u001b[0;34m\u001b[0m\u001b[0m\n\u001b[0;32m-> 1219\u001b[0;31m                 \u001b[0;32mraise\u001b[0m \u001b[0mKeyboardInterrupt\u001b[0m\u001b[0;34m(\u001b[0m\u001b[0;34m\"Interrupted by user\"\u001b[0m\u001b[0;34m)\u001b[0m \u001b[0;32mfrom\u001b[0m \u001b[0;32mNone\u001b[0m\u001b[0;34m\u001b[0m\u001b[0;34m\u001b[0m\u001b[0m\n\u001b[0m\u001b[1;32m   1220\u001b[0m             \u001b[0;32mexcept\u001b[0m \u001b[0mException\u001b[0m\u001b[0;34m:\u001b[0m\u001b[0;34m\u001b[0m\u001b[0;34m\u001b[0m\u001b[0m\n\u001b[1;32m   1221\u001b[0m                 \u001b[0mself\u001b[0m\u001b[0;34m.\u001b[0m\u001b[0mlog\u001b[0m\u001b[0;34m.\u001b[0m\u001b[0mwarning\u001b[0m\u001b[0;34m(\u001b[0m\u001b[0;34m\"Invalid Message:\"\u001b[0m\u001b[0;34m,\u001b[0m \u001b[0mexc_info\u001b[0m\u001b[0;34m=\u001b[0m\u001b[0;32mTrue\u001b[0m\u001b[0;34m)\u001b[0m\u001b[0;34m\u001b[0m\u001b[0;34m\u001b[0m\u001b[0m\n",
      "\u001b[0;31mKeyboardInterrupt\u001b[0m: Interrupted by user"
     ]
    }
   ],
   "source": [
    "from serial_controller import Serial_controller\n",
    "from my_socket import My_socket\n",
    "import lib\n",
    "import threading\n",
    "\n",
    "my_serial = Serial_controller(baudrate=115200,port=\"/dev/serial/by-id/usb-STMicroelectronics_STM32_Virtual_ComPort_8D7F439F5554-if00\")\n",
    "\n",
    "def socket_process():\n",
    "    my_socket = My_socket(IP='192.168.0.105',PORT=8765,SIZE=1024)\n",
    "    my_socket.listening_socket()\n",
    "    # my_socket.close_socket()\n",
    "\n",
    "def serial_to_stm32():\n",
    "    while True:\n",
    "        rcv_serial_data = my_serial.ser.read(1)\n",
    "        rcv_serial_data = int.from_bytes(rcv_serial_data,'big')\n",
    "        \n",
    "        print(rcv_serial_data)\n",
    "        if rcv_serial_data == 0:\n",
    "            command = 'play'\n",
    "        elif rcv_serial_data == 1:\n",
    "            command = 'stop'\n",
    "        else :\n",
    "            command = None\n",
    "        \n",
    "        user_id = lib.read_file_data(write_type='user')\n",
    "\n",
    "        response_data = lib.send_to_nest(command,user_id)\n",
    "        lib.write_data_in_file(txt=response_data,write_type='listening')\n",
    "        print(f'serial btn response data : {response_data}')\n",
    "\n",
    "thread_socket = threading.Thread(target=socket_process)\n",
    "thread_socket.daemon = True\n",
    "thread_socket.start()\n",
    "\n",
    "thread_serial = threading.Thread(target=serial_to_stm32)\n",
    "thread_serial.daemon = True\n",
    "thread_serial.start()\n",
    "\n",
    "while True:\n",
    "    exit_signal = input('Type \"exit\" anytime to stop server\\n')\n",
    "    if exit_signal == 'exit':\n",
    "        break"
   ]
  }
 ],
 "metadata": {
  "kernelspec": {
   "display_name": "my-spotify",
   "language": "python",
   "name": "python3"
  },
  "language_info": {
   "codemirror_mode": {
    "name": "ipython",
    "version": 3
   },
   "file_extension": ".py",
   "mimetype": "text/x-python",
   "name": "python",
   "nbconvert_exporter": "python",
   "pygments_lexer": "ipython3",
   "version": "3.7.16"
  }
 },
 "nbformat": 4,
 "nbformat_minor": 2
}
