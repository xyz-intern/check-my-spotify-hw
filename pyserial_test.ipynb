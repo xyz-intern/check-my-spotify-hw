{
 "cells": [
  {
   "cell_type": "code",
   "execution_count": 23,
   "metadata": {},
   "outputs": [],
   "source": [
    "\n",
    "import serial\n",
    "\n",
    "ser = serial.Serial()\n",
    "ser.baudrate = 115200\n",
    "ser.port = '/dev/serial/by-id/usb-FTDI_FT232R_USB_UART_A9EIFOED-if00-port0'"
   ]
  },
  {
   "cell_type": "code",
   "execution_count": 24,
   "metadata": {},
   "outputs": [
    {
     "data": {
      "text/plain": [
       "Serial<id=0x7fa2b490be50, open=False>(port='/dev/serial/by-id/usb-FTDI_FT232R_USB_UART_A9EIFOED-if00-port0', baudrate=115200, bytesize=8, parity='N', stopbits=1, timeout=None, xonxoff=False, rtscts=False, dsrdtr=False)"
      ]
     },
     "execution_count": 24,
     "metadata": {},
     "output_type": "execute_result"
    }
   ],
   "source": [
    "ser"
   ]
  },
  {
   "cell_type": "code",
   "execution_count": 17,
   "metadata": {},
   "outputs": [
    {
     "name": "stdout",
     "output_type": "stream",
     "text": [
      "hello world!\n",
      "b'hello world!'\n",
      "<class 'bytes'>\n"
     ]
    }
   ],
   "source": [
    "my_string = \"hello world!\"\n",
    "print(my_string)\n",
    "\n",
    "result = bytes(my_string, 'utf-8')\n",
    "print(result)\n",
    "print(type(result))"
   ]
  },
  {
   "cell_type": "code",
   "execution_count": 28,
   "metadata": {},
   "outputs": [
    {
     "data": {
      "text/plain": [
       "12"
      ]
     },
     "execution_count": 28,
     "metadata": {},
     "output_type": "execute_result"
    }
   ],
   "source": [
    "result.__sizeof__()\n",
    "len(result)"
   ]
  },
  {
   "cell_type": "code",
   "execution_count": 25,
   "metadata": {},
   "outputs": [],
   "source": [
    "ser.open()"
   ]
  },
  {
   "cell_type": "code",
   "execution_count": 26,
   "metadata": {},
   "outputs": [
    {
     "data": {
      "text/plain": [
       "b'hello world!'"
      ]
     },
     "execution_count": 26,
     "metadata": {},
     "output_type": "execute_result"
    }
   ],
   "source": [
    "ser.write(result)\n",
    "ser.read(12)"
   ]
  },
  {
   "cell_type": "code",
   "execution_count": 27,
   "metadata": {},
   "outputs": [],
   "source": [
    "ser.close()"
   ]
  },
  {
   "cell_type": "code",
   "execution_count": 3,
   "metadata": {},
   "outputs": [
    {
     "name": "stdout",
     "output_type": "stream",
     "text": [
      "1\n"
     ]
    },
    {
     "name": "stderr",
     "output_type": "stream",
     "text": [
      "Exception in thread serial_recv_task:\n",
      "Traceback (most recent call last):\n",
      "  File \"/home/sion/anaconda3/envs/my-spotify/lib/python3.7/threading.py\", line 926, in _bootstrap_inner\n",
      "    self.run()\n",
      "  File \"/home/sion/anaconda3/envs/my-spotify/lib/python3.7/threading.py\", line 870, in run\n",
      "    self._target(*self._args, **self._kwargs)\n",
      "  File \"/home/sion/workspace/my-spotify/stm32/check-my-spotify-hw/my_spotify.py\", line 29, in __recv_data\n",
      "    data = bytearray(self.ser.read())\n",
      "  File \"/home/sion/anaconda3/envs/my-spotify/lib/python3.7/site-packages/serial/serialposix.py\", line 596, in read\n",
      "    'device reports readiness to read but returned no data '\n",
      "serial.serialutil.SerialException: device reports readiness to read but returned no data (device disconnected or multiple access on port?)\n",
      "\n"
     ]
    },
    {
     "name": "stdout",
     "output_type": "stream",
     "text": [
      "{\"statusCode\":500,\"message\":\"Internal server error\"}\n",
      "0\n",
      "{\"statusCode\":500,\"message\":\"Internal server error\"}\n",
      "1\n",
      "{\"statusCode\":500,\"message\":\"Internal server error\"}\n",
      "0\n",
      "{\"statusCode\":500,\"message\":\"Internal server error\"}\n",
      "1\n",
      "{\"statusCode\":500,\"message\":\"Internal server error\"}\n",
      "0\n",
      "{\"statusCode\":500,\"message\":\"Internal server error\"}\n"
     ]
    }
   ],
   "source": [
    "from my_spotify import Spotify_Controller\n",
    "import requests\n",
    "my_controller = Spotify_Controller(baudrate=115200,port=\"/dev/serial/by-id/usb-STMicroelectronics_STM32_Virtual_ComPort_8D7F439F5554-if00\")\n",
    "\n",
    "while True:\n",
    "    try:\n",
    "        rcv_data = my_controller.ser.read(1)\n",
    "        rcv_data = int.from_bytes(rcv_data,'big')\n",
    "\n",
    "        print(rcv_data)\n",
    "        if rcv_data == 0:\n",
    "            command='play'\n",
    "        elif rcv_data == 1:\n",
    "            command='stop'\n",
    "\n",
    "        url_items = f'http://192.168.0.133:3000/apis/command/{command}'\n",
    "        response = requests.get(url_items)\n",
    "        print(response.text)\n",
    "    except KeyboardInterrupt:\n",
    "        break"
   ]
  }
 ],
 "metadata": {
  "kernelspec": {
   "display_name": "my-spotify",
   "language": "python",
   "name": "python3"
  },
  "language_info": {
   "codemirror_mode": {
    "name": "ipython",
    "version": 3
   },
   "file_extension": ".py",
   "mimetype": "text/x-python",
   "name": "python",
   "nbconvert_exporter": "python",
   "pygments_lexer": "ipython3",
   "version": "3.7.16"
  }
 },
 "nbformat": 4,
 "nbformat_minor": 2
}
